{
 "cells": [
  {
   "cell_type": "code",
   "execution_count": null,
   "metadata": {
    "collapsed": false
   },
   "outputs": [
    {
     "name": "stdout",
     "output_type": "stream",
     "text": [
      "Enter location: shuozhou\n",
      "Retrieving http://maps.googleapis.com/maps/api/geocode/json?address=shuozhou\n",
      "latitude: 39.331595 longitude: 112.432825\n",
      "Shuozhou, Shanxi, China\n",
      "Enter location: University of Science and Technology of China\n",
      "Retrieving http://maps.googleapis.com/maps/api/geocode/json?address=University+of+Science+and+Technology+of+China\n",
      "latitude: 39.9905638 longitude: 116.3622099\n",
      "Bei Jing Ke Ji Da Xue Ti Yu Guan, Haidian Qu, Beijing Shi, China, 100083\n"
     ]
    }
   ],
   "source": [
    "import urllib\n",
    "import json\n",
    "\n",
    "serviceurl = 'http://maps.googleapis.com/maps/api/geocode/json?'\n",
    "# this is the google maps api\n",
    "# serviceurl = 'http://python-data.dr-chuck.net/geojson?'\n",
    "\n",
    "while True:\n",
    "    address = raw_input('Enter location: ')\n",
    "    if len(address) < 1 : break\n",
    "\n",
    "    # url = serviceurl + urllib.urlencode({'sensor':'false', 'address': address})\n",
    "    url = serviceurl + urllib.urlencode({'address': address})\n",
    "    # google maps doesn't require sensor any more\n",
    "    print 'Retrieving', url\n",
    "    uh = urllib.urlopen(url)\n",
    "    # uh is an object\n",
    "    data = uh.read()\n",
    "    # data is a string\n",
    "    # print 'Retrieved',len(data),'characters'\n",
    "\n",
    "    try: js = json.loads(str(data))\n",
    "    # data is json list or dict, but js is python list or dict\n",
    "    except: js = None\n",
    "    if 'status' not in js or js['status'] != 'OK':\n",
    "        # js is a dict, status is a key\n",
    "        print '==== Failure To Retrieve ===='\n",
    "        print data\n",
    "        continue\n",
    "\n",
    "    # print json.dumps(js, indent=4)\n",
    "    \n",
    "    lat = js[\"results\"][0][\"geometry\"][\"location\"][\"lat\"]\n",
    "    # the first element of the results\n",
    "    lng = js[\"results\"][0][\"geometry\"][\"location\"][\"lng\"]\n",
    "    print 'latitude:',lat,'longitude:',lng\n",
    "    location = js['results'][0]['formatted_address']\n",
    "    print location\n"
   ]
  }
 ],
 "metadata": {
  "kernelspec": {
   "display_name": "Python 2",
   "language": "python",
   "name": "python2"
  },
  "language_info": {
   "codemirror_mode": {
    "name": "ipython",
    "version": 2
   },
   "file_extension": ".py",
   "mimetype": "text/x-python",
   "name": "python",
   "nbconvert_exporter": "python",
   "pygments_lexer": "ipython2",
   "version": "2.7.5"
  }
 },
 "nbformat": 4,
 "nbformat_minor": 0
}
